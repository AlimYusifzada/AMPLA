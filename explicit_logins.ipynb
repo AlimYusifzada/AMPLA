{
 "cells": [
  {
   "cell_type": "code",
   "execution_count": 21,
   "metadata": {},
   "outputs": [],
   "source": [
    "import re\n",
    "\n",
    "\n",
    "def get_logins(logsfilename='logins.txt'):\n",
    "    '''\n",
    "    run @ domain controller\n",
    "    wevtutil qe Security | find /i \"4648</EventID\" >logins.txt\n",
    "    '''\n",
    "    timepattern = \"\\d+-\\d+-\\d+T\\d+:\\d+:\\d+\"\n",
    "    namepattern = \"'TargetUserName'>\\w+\"\n",
    "    ippattern = \"'IpAddress'>\\d+.\\d+.\\d+.\\d+\"\n",
    "    portpattern = \"'IpPort'>\\d+\"\n",
    "    targdompattern = \"'TargetDomainName'>\\w+\"\n",
    "    processpattern = \"'ProcessName'>\\D:[\\\\\\w*\\w+]+\\\\w+\\.\\w+\"\n",
    "\n",
    "    timef = re.compile(timepattern)\n",
    "    namef = re.compile(namepattern)\n",
    "    ipf = re.compile(ippattern)\n",
    "    portf = re.compile(portpattern)\n",
    "    targdomf = re.compile(targdompattern)\n",
    "    processf = re.compile(processpattern)\n",
    "    result = \"\"\n",
    "\n",
    "    with open(logsfilename, 'r') as logfile:\n",
    "        l = logfile.readline()\n",
    "        lcounter = 0\n",
    "        while len(l) > 0:\n",
    "            s = \"\"\n",
    "            flag = True\n",
    "            l = logfile.readline()\n",
    "            if len(timef.findall(l)) > 0:\n",
    "                s += \" Time:\"+timef.findall(l)[0]\n",
    "            else:\n",
    "                flag = False\n",
    "            if len(namef.findall(l)) > 0:\n",
    "                s += \" Username:\"+namef.findall(l)[0][17:]\n",
    "            else:\n",
    "                flag = False\n",
    "            if len(ipf.findall(l)) > 0:\n",
    "                s += \" IP address:\"+ipf.findall(l)[0][12:]\n",
    "            else:\n",
    "                flag = False\n",
    "            if len(portf.findall(l)) > 0:\n",
    "                s += \" Port number:\"+portf.findall(l)[0][9:]\n",
    "            else:\n",
    "                flag = False\n",
    "            if len(targdomf.findall(l)) > 0:\n",
    "                s += \" Target Domain:\"+targdomf.findall(l)[0][19:]\n",
    "            else:\n",
    "                flag = False\n",
    "            if len(processf.findall(l)) > 0:\n",
    "                s += \" Target Process:\"+processf.findall(l)[0][14:]\n",
    "            else:\n",
    "                flag = False\n",
    "            if flag:\n",
    "                result += s+'\\n'\n",
    "    return result\n"
   ]
  },
  {
   "cell_type": "code",
   "execution_count": 22,
   "metadata": {},
   "outputs": [
    {
     "name": "stdout",
     "output_type": "stream",
     "text": [
      " Time:2023-01-09T09:59:40 Username:muss4e IP address:172.16.80.93 Port number:60790 Target Domain:CENTRALAZERI Target Process:C:\\Windows\\System32\\winlogon.exe\n",
      " Time:2023-01-10T04:06:27 Username:khazarg_cwp IP address:172.16.80.74 Port number:49841 Target Domain:CENTRALAZERI Target Process:C:\\Windows\\System32\\winlogon.exe\n",
      " Time:2023-01-15T11:24:10 Username:alimy IP address:172.16.80.91 Port number:50451 Target Domain:CENTRALAZERI Target Process:C:\\Windows\\System32\\winlogon.exe\n",
      " Time:2023-01-21T05:39:08 Username:turala IP address:172.16.80.74 Port number:57775 Target Domain:CENTRALAZERI Target Process:C:\\Windows\\System32\\winlogon.exe\n",
      " Time:2023-01-22T04:01:52 Username:turala IP address:172.16.80.74 Port number:58717 Target Domain:CENTRALAZERI Target Process:C:\\Windows\\System32\\winlogon.exe\n",
      " Time:2023-01-28T06:23:14 Username:turala IP address:172.16.80.74 Port number:58717 Target Domain:CENTRALAZERI Target Process:C:\\Windows\\System32\\winlogon.exe\n",
      " Time:2023-01-30T08:03:51 Username:BakhtiyarM IP address:172.16.80.94 Port number:57211 Target Domain:CENTRALAZERI Target Process:C:\\Windows\\System32\\winlogon.exe\n",
      " Time:2023-02-04T04:22:00 Username:alimy IP address:172.16.80.74 Port number:59712 Target Domain:CENTRALAZERI Target Process:C:\\Windows\\System32\\winlogon.exe\n",
      " Time:2023-02-06T04:22:04 Username:alimy IP address:172.16.80.74 Port number:61828 Target Domain:CENTRALAZERI Target Process:C:\\Windows\\System32\\winlogon.exe\n",
      " Time:2023-02-06T12:58:09 Username:alimy IP address:172.16.80.74 Port number:61828 Target Domain:CENTRALAZERI Target Process:C:\\Windows\\System32\\winlogon.exe\n",
      " Time:2023-02-08T07:22:13 Username:alimy IP address:172.16.80.74 Port number:63920 Target Domain:CENTRALAZERI Target Process:C:\\Windows\\System32\\winlogon.exe\n",
      "\n"
     ]
    }
   ],
   "source": [
    "print(get_logins())"
   ]
  },
  {
   "cell_type": "code",
   "execution_count": 20,
   "metadata": {},
   "outputs": [
    {
     "name": "stdout",
     "output_type": "stream",
     "text": [
      "c:\\hiberfil.sys\n",
      "c:\\pagefile.sys\n",
      "c:\\swapfile.sys\n"
     ]
    }
   ],
   "source": [
    "from pathlib import Path\n",
    "for f in Path(\"c:\\\\\").iterdir():\n",
    "    if f.is_file() and str(f)[-3:]==\"sys\":\n",
    "        print(str(f))"
   ]
  }
 ],
 "metadata": {
  "kernelspec": {
   "display_name": "Python 3",
   "language": "python",
   "name": "python3"
  },
  "language_info": {
   "codemirror_mode": {
    "name": "ipython",
    "version": 3
   },
   "file_extension": ".py",
   "mimetype": "text/x-python",
   "name": "python",
   "nbconvert_exporter": "python",
   "pygments_lexer": "ipython3",
   "version": "3.10.4"
  },
  "orig_nbformat": 4,
  "vscode": {
   "interpreter": {
    "hash": "9805d9eedf7b851a3dc75de40cebb50f6a37381648dd76c6f9c332e09c083f71"
   }
  }
 },
 "nbformat": 4,
 "nbformat_minor": 2
}
